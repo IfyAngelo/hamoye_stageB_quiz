{
 "cells": [
  {
   "cell_type": "code",
   "execution_count": 100,
   "id": "31c826db",
   "metadata": {},
   "outputs": [],
   "source": [
    "import pandas as pd\n",
    "import numpy as np\n",
    "\n",
    "from sklearn.preprocessing import MinMaxScaler\n",
    "from sklearn.model_selection import train_test_split\n",
    "from sklearn.linear_model import LinearRegression, Ridge, Lasso\n",
    "from sklearn.metrics import mean_absolute_error, mean_squared_error, r2_score"
   ]
  },
  {
   "cell_type": "code",
   "execution_count": 101,
   "id": "b986bc42",
   "metadata": {},
   "outputs": [
    {
     "data": {
      "text/html": [
       "<div>\n",
       "<style scoped>\n",
       "    .dataframe tbody tr th:only-of-type {\n",
       "        vertical-align: middle;\n",
       "    }\n",
       "\n",
       "    .dataframe tbody tr th {\n",
       "        vertical-align: top;\n",
       "    }\n",
       "\n",
       "    .dataframe thead th {\n",
       "        text-align: right;\n",
       "    }\n",
       "</style>\n",
       "<table border=\"1\" class=\"dataframe\">\n",
       "  <thead>\n",
       "    <tr style=\"text-align: right;\">\n",
       "      <th></th>\n",
       "      <th>date</th>\n",
       "      <th>Appliances</th>\n",
       "      <th>lights</th>\n",
       "      <th>T1</th>\n",
       "      <th>RH_1</th>\n",
       "      <th>T2</th>\n",
       "      <th>RH_2</th>\n",
       "      <th>T3</th>\n",
       "      <th>RH_3</th>\n",
       "      <th>T4</th>\n",
       "      <th>...</th>\n",
       "      <th>T9</th>\n",
       "      <th>RH_9</th>\n",
       "      <th>T_out</th>\n",
       "      <th>Press_mm_hg</th>\n",
       "      <th>RH_out</th>\n",
       "      <th>Windspeed</th>\n",
       "      <th>Visibility</th>\n",
       "      <th>Tdewpoint</th>\n",
       "      <th>rv1</th>\n",
       "      <th>rv2</th>\n",
       "    </tr>\n",
       "  </thead>\n",
       "  <tbody>\n",
       "    <tr>\n",
       "      <th>0</th>\n",
       "      <td>11/01/2016 17:00</td>\n",
       "      <td>60</td>\n",
       "      <td>30</td>\n",
       "      <td>19.89</td>\n",
       "      <td>47.596667</td>\n",
       "      <td>19.2</td>\n",
       "      <td>44.790000</td>\n",
       "      <td>19.79</td>\n",
       "      <td>44.730000</td>\n",
       "      <td>19.000000</td>\n",
       "      <td>...</td>\n",
       "      <td>17.033333</td>\n",
       "      <td>45.53</td>\n",
       "      <td>6.60</td>\n",
       "      <td>733.5</td>\n",
       "      <td>92.0</td>\n",
       "      <td>7.000000</td>\n",
       "      <td>63.000000</td>\n",
       "      <td>5.3</td>\n",
       "      <td>13.275433</td>\n",
       "      <td>13.275433</td>\n",
       "    </tr>\n",
       "    <tr>\n",
       "      <th>1</th>\n",
       "      <td>11/01/2016 17:10</td>\n",
       "      <td>60</td>\n",
       "      <td>30</td>\n",
       "      <td>19.89</td>\n",
       "      <td>46.693333</td>\n",
       "      <td>19.2</td>\n",
       "      <td>44.722500</td>\n",
       "      <td>19.79</td>\n",
       "      <td>44.790000</td>\n",
       "      <td>19.000000</td>\n",
       "      <td>...</td>\n",
       "      <td>17.066667</td>\n",
       "      <td>45.56</td>\n",
       "      <td>6.48</td>\n",
       "      <td>733.6</td>\n",
       "      <td>92.0</td>\n",
       "      <td>6.666667</td>\n",
       "      <td>59.166667</td>\n",
       "      <td>5.2</td>\n",
       "      <td>18.606195</td>\n",
       "      <td>18.606195</td>\n",
       "    </tr>\n",
       "    <tr>\n",
       "      <th>2</th>\n",
       "      <td>11/01/2016 17:20</td>\n",
       "      <td>50</td>\n",
       "      <td>30</td>\n",
       "      <td>19.89</td>\n",
       "      <td>46.300000</td>\n",
       "      <td>19.2</td>\n",
       "      <td>44.626667</td>\n",
       "      <td>19.79</td>\n",
       "      <td>44.933333</td>\n",
       "      <td>18.926667</td>\n",
       "      <td>...</td>\n",
       "      <td>17.000000</td>\n",
       "      <td>45.50</td>\n",
       "      <td>6.37</td>\n",
       "      <td>733.7</td>\n",
       "      <td>92.0</td>\n",
       "      <td>6.333333</td>\n",
       "      <td>55.333333</td>\n",
       "      <td>5.1</td>\n",
       "      <td>28.642668</td>\n",
       "      <td>28.642668</td>\n",
       "    </tr>\n",
       "    <tr>\n",
       "      <th>3</th>\n",
       "      <td>11/01/2016 17:30</td>\n",
       "      <td>50</td>\n",
       "      <td>40</td>\n",
       "      <td>19.89</td>\n",
       "      <td>46.066667</td>\n",
       "      <td>19.2</td>\n",
       "      <td>44.590000</td>\n",
       "      <td>19.79</td>\n",
       "      <td>45.000000</td>\n",
       "      <td>18.890000</td>\n",
       "      <td>...</td>\n",
       "      <td>17.000000</td>\n",
       "      <td>45.40</td>\n",
       "      <td>6.25</td>\n",
       "      <td>733.8</td>\n",
       "      <td>92.0</td>\n",
       "      <td>6.000000</td>\n",
       "      <td>51.500000</td>\n",
       "      <td>5.0</td>\n",
       "      <td>45.410390</td>\n",
       "      <td>45.410390</td>\n",
       "    </tr>\n",
       "    <tr>\n",
       "      <th>4</th>\n",
       "      <td>11/01/2016 17:40</td>\n",
       "      <td>60</td>\n",
       "      <td>40</td>\n",
       "      <td>19.89</td>\n",
       "      <td>46.333333</td>\n",
       "      <td>19.2</td>\n",
       "      <td>44.530000</td>\n",
       "      <td>19.79</td>\n",
       "      <td>45.000000</td>\n",
       "      <td>18.890000</td>\n",
       "      <td>...</td>\n",
       "      <td>17.000000</td>\n",
       "      <td>45.40</td>\n",
       "      <td>6.13</td>\n",
       "      <td>733.9</td>\n",
       "      <td>92.0</td>\n",
       "      <td>5.666667</td>\n",
       "      <td>47.666667</td>\n",
       "      <td>4.9</td>\n",
       "      <td>10.084097</td>\n",
       "      <td>10.084097</td>\n",
       "    </tr>\n",
       "  </tbody>\n",
       "</table>\n",
       "<p>5 rows × 29 columns</p>\n",
       "</div>"
      ],
      "text/plain": [
       "               date  Appliances  lights     T1       RH_1    T2       RH_2  \\\n",
       "0  11/01/2016 17:00          60      30  19.89  47.596667  19.2  44.790000   \n",
       "1  11/01/2016 17:10          60      30  19.89  46.693333  19.2  44.722500   \n",
       "2  11/01/2016 17:20          50      30  19.89  46.300000  19.2  44.626667   \n",
       "3  11/01/2016 17:30          50      40  19.89  46.066667  19.2  44.590000   \n",
       "4  11/01/2016 17:40          60      40  19.89  46.333333  19.2  44.530000   \n",
       "\n",
       "      T3       RH_3         T4  ...         T9   RH_9  T_out  Press_mm_hg  \\\n",
       "0  19.79  44.730000  19.000000  ...  17.033333  45.53   6.60        733.5   \n",
       "1  19.79  44.790000  19.000000  ...  17.066667  45.56   6.48        733.6   \n",
       "2  19.79  44.933333  18.926667  ...  17.000000  45.50   6.37        733.7   \n",
       "3  19.79  45.000000  18.890000  ...  17.000000  45.40   6.25        733.8   \n",
       "4  19.79  45.000000  18.890000  ...  17.000000  45.40   6.13        733.9   \n",
       "\n",
       "   RH_out  Windspeed  Visibility  Tdewpoint        rv1        rv2  \n",
       "0    92.0   7.000000   63.000000        5.3  13.275433  13.275433  \n",
       "1    92.0   6.666667   59.166667        5.2  18.606195  18.606195  \n",
       "2    92.0   6.333333   55.333333        5.1  28.642668  28.642668  \n",
       "3    92.0   6.000000   51.500000        5.0  45.410390  45.410390  \n",
       "4    92.0   5.666667   47.666667        4.9  10.084097  10.084097  \n",
       "\n",
       "[5 rows x 29 columns]"
      ]
     },
     "execution_count": 101,
     "metadata": {},
     "output_type": "execute_result"
    }
   ],
   "source": [
    "data1 = pd.read_csv('energy_data.csv')\n",
    "data1.head(5)"
   ]
  },
  {
   "cell_type": "code",
   "execution_count": 102,
   "id": "0074a341",
   "metadata": {},
   "outputs": [
    {
     "data": {
      "text/html": [
       "<div>\n",
       "<style scoped>\n",
       "    .dataframe tbody tr th:only-of-type {\n",
       "        vertical-align: middle;\n",
       "    }\n",
       "\n",
       "    .dataframe tbody tr th {\n",
       "        vertical-align: top;\n",
       "    }\n",
       "\n",
       "    .dataframe thead th {\n",
       "        text-align: right;\n",
       "    }\n",
       "</style>\n",
       "<table border=\"1\" class=\"dataframe\">\n",
       "  <thead>\n",
       "    <tr style=\"text-align: right;\">\n",
       "      <th></th>\n",
       "      <th>Appliances</th>\n",
       "      <th>lights</th>\n",
       "      <th>T1</th>\n",
       "      <th>RH_1</th>\n",
       "      <th>T2</th>\n",
       "      <th>RH_2</th>\n",
       "      <th>T3</th>\n",
       "      <th>RH_3</th>\n",
       "      <th>T4</th>\n",
       "      <th>RH_4</th>\n",
       "      <th>...</th>\n",
       "      <th>T9</th>\n",
       "      <th>RH_9</th>\n",
       "      <th>T_out</th>\n",
       "      <th>Press_mm_hg</th>\n",
       "      <th>RH_out</th>\n",
       "      <th>Windspeed</th>\n",
       "      <th>Visibility</th>\n",
       "      <th>Tdewpoint</th>\n",
       "      <th>rv1</th>\n",
       "      <th>rv2</th>\n",
       "    </tr>\n",
       "  </thead>\n",
       "  <tbody>\n",
       "    <tr>\n",
       "      <th>0</th>\n",
       "      <td>60</td>\n",
       "      <td>30</td>\n",
       "      <td>19.89</td>\n",
       "      <td>47.596667</td>\n",
       "      <td>19.2</td>\n",
       "      <td>44.790000</td>\n",
       "      <td>19.79</td>\n",
       "      <td>44.730000</td>\n",
       "      <td>19.000000</td>\n",
       "      <td>45.566667</td>\n",
       "      <td>...</td>\n",
       "      <td>17.033333</td>\n",
       "      <td>45.53</td>\n",
       "      <td>6.60</td>\n",
       "      <td>733.5</td>\n",
       "      <td>92.0</td>\n",
       "      <td>7.000000</td>\n",
       "      <td>63.000000</td>\n",
       "      <td>5.3</td>\n",
       "      <td>13.275433</td>\n",
       "      <td>13.275433</td>\n",
       "    </tr>\n",
       "    <tr>\n",
       "      <th>1</th>\n",
       "      <td>60</td>\n",
       "      <td>30</td>\n",
       "      <td>19.89</td>\n",
       "      <td>46.693333</td>\n",
       "      <td>19.2</td>\n",
       "      <td>44.722500</td>\n",
       "      <td>19.79</td>\n",
       "      <td>44.790000</td>\n",
       "      <td>19.000000</td>\n",
       "      <td>45.992500</td>\n",
       "      <td>...</td>\n",
       "      <td>17.066667</td>\n",
       "      <td>45.56</td>\n",
       "      <td>6.48</td>\n",
       "      <td>733.6</td>\n",
       "      <td>92.0</td>\n",
       "      <td>6.666667</td>\n",
       "      <td>59.166667</td>\n",
       "      <td>5.2</td>\n",
       "      <td>18.606195</td>\n",
       "      <td>18.606195</td>\n",
       "    </tr>\n",
       "    <tr>\n",
       "      <th>2</th>\n",
       "      <td>50</td>\n",
       "      <td>30</td>\n",
       "      <td>19.89</td>\n",
       "      <td>46.300000</td>\n",
       "      <td>19.2</td>\n",
       "      <td>44.626667</td>\n",
       "      <td>19.79</td>\n",
       "      <td>44.933333</td>\n",
       "      <td>18.926667</td>\n",
       "      <td>45.890000</td>\n",
       "      <td>...</td>\n",
       "      <td>17.000000</td>\n",
       "      <td>45.50</td>\n",
       "      <td>6.37</td>\n",
       "      <td>733.7</td>\n",
       "      <td>92.0</td>\n",
       "      <td>6.333333</td>\n",
       "      <td>55.333333</td>\n",
       "      <td>5.1</td>\n",
       "      <td>28.642668</td>\n",
       "      <td>28.642668</td>\n",
       "    </tr>\n",
       "    <tr>\n",
       "      <th>3</th>\n",
       "      <td>50</td>\n",
       "      <td>40</td>\n",
       "      <td>19.89</td>\n",
       "      <td>46.066667</td>\n",
       "      <td>19.2</td>\n",
       "      <td>44.590000</td>\n",
       "      <td>19.79</td>\n",
       "      <td>45.000000</td>\n",
       "      <td>18.890000</td>\n",
       "      <td>45.723333</td>\n",
       "      <td>...</td>\n",
       "      <td>17.000000</td>\n",
       "      <td>45.40</td>\n",
       "      <td>6.25</td>\n",
       "      <td>733.8</td>\n",
       "      <td>92.0</td>\n",
       "      <td>6.000000</td>\n",
       "      <td>51.500000</td>\n",
       "      <td>5.0</td>\n",
       "      <td>45.410390</td>\n",
       "      <td>45.410390</td>\n",
       "    </tr>\n",
       "    <tr>\n",
       "      <th>4</th>\n",
       "      <td>60</td>\n",
       "      <td>40</td>\n",
       "      <td>19.89</td>\n",
       "      <td>46.333333</td>\n",
       "      <td>19.2</td>\n",
       "      <td>44.530000</td>\n",
       "      <td>19.79</td>\n",
       "      <td>45.000000</td>\n",
       "      <td>18.890000</td>\n",
       "      <td>45.530000</td>\n",
       "      <td>...</td>\n",
       "      <td>17.000000</td>\n",
       "      <td>45.40</td>\n",
       "      <td>6.13</td>\n",
       "      <td>733.9</td>\n",
       "      <td>92.0</td>\n",
       "      <td>5.666667</td>\n",
       "      <td>47.666667</td>\n",
       "      <td>4.9</td>\n",
       "      <td>10.084097</td>\n",
       "      <td>10.084097</td>\n",
       "    </tr>\n",
       "  </tbody>\n",
       "</table>\n",
       "<p>5 rows × 28 columns</p>\n",
       "</div>"
      ],
      "text/plain": [
       "   Appliances  lights     T1       RH_1    T2       RH_2     T3       RH_3  \\\n",
       "0          60      30  19.89  47.596667  19.2  44.790000  19.79  44.730000   \n",
       "1          60      30  19.89  46.693333  19.2  44.722500  19.79  44.790000   \n",
       "2          50      30  19.89  46.300000  19.2  44.626667  19.79  44.933333   \n",
       "3          50      40  19.89  46.066667  19.2  44.590000  19.79  45.000000   \n",
       "4          60      40  19.89  46.333333  19.2  44.530000  19.79  45.000000   \n",
       "\n",
       "          T4       RH_4  ...         T9   RH_9  T_out  Press_mm_hg  RH_out  \\\n",
       "0  19.000000  45.566667  ...  17.033333  45.53   6.60        733.5    92.0   \n",
       "1  19.000000  45.992500  ...  17.066667  45.56   6.48        733.6    92.0   \n",
       "2  18.926667  45.890000  ...  17.000000  45.50   6.37        733.7    92.0   \n",
       "3  18.890000  45.723333  ...  17.000000  45.40   6.25        733.8    92.0   \n",
       "4  18.890000  45.530000  ...  17.000000  45.40   6.13        733.9    92.0   \n",
       "\n",
       "   Windspeed  Visibility  Tdewpoint        rv1        rv2  \n",
       "0   7.000000   63.000000        5.3  13.275433  13.275433  \n",
       "1   6.666667   59.166667        5.2  18.606195  18.606195  \n",
       "2   6.333333   55.333333        5.1  28.642668  28.642668  \n",
       "3   6.000000   51.500000        5.0  45.410390  45.410390  \n",
       "4   5.666667   47.666667        4.9  10.084097  10.084097  \n",
       "\n",
       "[5 rows x 28 columns]"
      ]
     },
     "execution_count": 102,
     "metadata": {},
     "output_type": "execute_result"
    }
   ],
   "source": [
    "data1 = data1.drop('date', axis = 1)\n",
    "data1.head()"
   ]
  },
  {
   "cell_type": "code",
   "execution_count": 103,
   "id": "bd2eb286",
   "metadata": {},
   "outputs": [
    {
     "data": {
      "text/html": [
       "<div>\n",
       "<style scoped>\n",
       "    .dataframe tbody tr th:only-of-type {\n",
       "        vertical-align: middle;\n",
       "    }\n",
       "\n",
       "    .dataframe tbody tr th {\n",
       "        vertical-align: top;\n",
       "    }\n",
       "\n",
       "    .dataframe thead th {\n",
       "        text-align: right;\n",
       "    }\n",
       "</style>\n",
       "<table border=\"1\" class=\"dataframe\">\n",
       "  <thead>\n",
       "    <tr style=\"text-align: right;\">\n",
       "      <th></th>\n",
       "      <th>Appliances</th>\n",
       "      <th>lights</th>\n",
       "      <th>T1-TEMP IN KITCHEN ^C</th>\n",
       "      <th>RH_1-HUMIDITY IN KITCHEN %</th>\n",
       "      <th>T2-TEMP IN LIVING_ROOM ^C</th>\n",
       "      <th>RH_2-HUMIDITY IN LIVING_ROOM %</th>\n",
       "      <th>T3-TEMP IN LAUNDRY_ROOM ^C</th>\n",
       "      <th>RH_3-HUMIDITY IN LAUNDRY_ROOM %</th>\n",
       "      <th>T4-TEMP IN OFFICE_ROOM ^C</th>\n",
       "      <th>RH_4-HUMIDITY IN OFFICE_ROOM %</th>\n",
       "      <th>...</th>\n",
       "      <th>T9-TEMP IN MASTER_ROOM ^C</th>\n",
       "      <th>RH_9-HUMIDITY IN MASTER_ROOM %</th>\n",
       "      <th>T_out-TEMP OUTSIDE_WEATHER STATION ^C</th>\n",
       "      <th>Press_mm_hg-PRESSURE_STATION mmHg</th>\n",
       "      <th>RH_out-HUMIDITY OUTSIDE_WEATHER STATION %</th>\n",
       "      <th>WS-WEATHER STATION m/s</th>\n",
       "      <th>Visibility-WEATHER STATION km</th>\n",
       "      <th>TDP-WEATHER STATION A^C</th>\n",
       "      <th>rv1-RANDOM VARIABLE1</th>\n",
       "      <th>rv2-RANDOM VARIABLE2</th>\n",
       "    </tr>\n",
       "  </thead>\n",
       "  <tbody>\n",
       "    <tr>\n",
       "      <th>0</th>\n",
       "      <td>60</td>\n",
       "      <td>30</td>\n",
       "      <td>19.89</td>\n",
       "      <td>47.596667</td>\n",
       "      <td>19.2</td>\n",
       "      <td>44.7900</td>\n",
       "      <td>19.79</td>\n",
       "      <td>44.73</td>\n",
       "      <td>19.0</td>\n",
       "      <td>45.566667</td>\n",
       "      <td>...</td>\n",
       "      <td>17.033333</td>\n",
       "      <td>45.53</td>\n",
       "      <td>6.60</td>\n",
       "      <td>733.5</td>\n",
       "      <td>92.0</td>\n",
       "      <td>7.000000</td>\n",
       "      <td>63.000000</td>\n",
       "      <td>5.3</td>\n",
       "      <td>13.275433</td>\n",
       "      <td>13.275433</td>\n",
       "    </tr>\n",
       "    <tr>\n",
       "      <th>1</th>\n",
       "      <td>60</td>\n",
       "      <td>30</td>\n",
       "      <td>19.89</td>\n",
       "      <td>46.693333</td>\n",
       "      <td>19.2</td>\n",
       "      <td>44.7225</td>\n",
       "      <td>19.79</td>\n",
       "      <td>44.79</td>\n",
       "      <td>19.0</td>\n",
       "      <td>45.992500</td>\n",
       "      <td>...</td>\n",
       "      <td>17.066667</td>\n",
       "      <td>45.56</td>\n",
       "      <td>6.48</td>\n",
       "      <td>733.6</td>\n",
       "      <td>92.0</td>\n",
       "      <td>6.666667</td>\n",
       "      <td>59.166667</td>\n",
       "      <td>5.2</td>\n",
       "      <td>18.606195</td>\n",
       "      <td>18.606195</td>\n",
       "    </tr>\n",
       "  </tbody>\n",
       "</table>\n",
       "<p>2 rows × 28 columns</p>\n",
       "</div>"
      ],
      "text/plain": [
       "   Appliances  lights  T1-TEMP IN KITCHEN ^C  RH_1-HUMIDITY IN KITCHEN %  \\\n",
       "0          60      30                  19.89                   47.596667   \n",
       "1          60      30                  19.89                   46.693333   \n",
       "\n",
       "   T2-TEMP IN LIVING_ROOM ^C  RH_2-HUMIDITY IN LIVING_ROOM %  \\\n",
       "0                       19.2                         44.7900   \n",
       "1                       19.2                         44.7225   \n",
       "\n",
       "   T3-TEMP IN LAUNDRY_ROOM ^C  RH_3-HUMIDITY IN LAUNDRY_ROOM %  \\\n",
       "0                       19.79                            44.73   \n",
       "1                       19.79                            44.79   \n",
       "\n",
       "   T4-TEMP IN OFFICE_ROOM ^C  RH_4-HUMIDITY IN OFFICE_ROOM %  ...  \\\n",
       "0                       19.0                       45.566667  ...   \n",
       "1                       19.0                       45.992500  ...   \n",
       "\n",
       "   T9-TEMP IN MASTER_ROOM ^C  RH_9-HUMIDITY IN MASTER_ROOM %  \\\n",
       "0                  17.033333                           45.53   \n",
       "1                  17.066667                           45.56   \n",
       "\n",
       "   T_out-TEMP OUTSIDE_WEATHER STATION ^C  Press_mm_hg-PRESSURE_STATION mmHg  \\\n",
       "0                                   6.60                              733.5   \n",
       "1                                   6.48                              733.6   \n",
       "\n",
       "   RH_out-HUMIDITY OUTSIDE_WEATHER STATION %  WS-WEATHER STATION m/s  \\\n",
       "0                                       92.0                7.000000   \n",
       "1                                       92.0                6.666667   \n",
       "\n",
       "   Visibility-WEATHER STATION km  TDP-WEATHER STATION A^C  \\\n",
       "0                      63.000000                      5.3   \n",
       "1                      59.166667                      5.2   \n",
       "\n",
       "   rv1-RANDOM VARIABLE1  rv2-RANDOM VARIABLE2  \n",
       "0             13.275433             13.275433  \n",
       "1             18.606195             18.606195  \n",
       "\n",
       "[2 rows x 28 columns]"
      ]
     },
     "execution_count": 103,
     "metadata": {},
     "output_type": "execute_result"
    }
   ],
   "source": [
    "#RENAME COLUMNS\n",
    "\n",
    "columns = {\n",
    "    'T1' : 'T1-TEMP IN KITCHEN ^C',\n",
    "    'RH_1' : 'RH_1-HUMIDITY IN KITCHEN %',\n",
    "    'T2' : 'T2-TEMP IN LIVING_ROOM ^C',\n",
    "    'RH_2' : 'RH_2-HUMIDITY IN LIVING_ROOM %',\n",
    "    'T3' : 'T3-TEMP IN LAUNDRY_ROOM ^C',\n",
    "    'RH_3' : 'RH_3-HUMIDITY IN LAUNDRY_ROOM %',\n",
    "    'T4' : 'T4-TEMP IN OFFICE_ROOM ^C',\n",
    "    'RH_4' : 'RH_4-HUMIDITY IN OFFICE_ROOM %',\n",
    "    'T5' : 'T5-TEMP IN BATHROOM ^C',\n",
    "    'RH_5' : 'RH_5-HUMIDITY IN BATHROOM %',\n",
    "    'T6' : 'T6-TEMP OUTSIDE_NORTH ^C',\n",
    "    'RH_6' : 'RH_6-HUMIDITY IN OUTSIDE_NORTH %',\n",
    "    'T7' : 'T7-TEMP IN IRONING_ROOM ^C',\n",
    "    'RH_7' : 'RH_7-HUMIDITY IN IRONING_ROOM %',\n",
    "    'T8' : 'T8-TEMP IN TEEN_ROOM ^C',\n",
    "    'RH_8' : 'RH_8-HUMIDITY IN TEEN_ROOM %',\n",
    "    'T9' : 'T9-TEMP IN MASTER_ROOM ^C',\n",
    "    'RH_9' : 'RH_9-HUMIDITY IN MASTER_ROOM %',\n",
    "    'T_out' : 'T_out-TEMP OUTSIDE_WEATHER STATION ^C',\n",
    "    'RH_out' : 'RH_out-HUMIDITY OUTSIDE_WEATHER STATION %',\n",
    "    'Press_mm_hg' : 'Press_mm_hg-PRESSURE_STATION mmHg',\n",
    "    'Windspeed' : 'WS-WEATHER STATION m/s',\n",
    "    'Visibility' : 'Visibility-WEATHER STATION km',\n",
    "    'Tdewpoint' : 'TDP-WEATHER STATION A^C',\n",
    "    'rv1' : 'rv1-RANDOM VARIABLE1',\n",
    "    'rv2' : 'rv2-RANDOM VARIABLE2',\n",
    "}\n",
    "\n",
    "data1 = data1.rename(columns = columns)\n",
    "data1.head(2)"
   ]
  },
  {
   "cell_type": "code",
   "execution_count": 104,
   "id": "70ea533a",
   "metadata": {},
   "outputs": [
    {
     "data": {
      "text/plain": [
       "Appliances                                   0\n",
       "lights                                       0\n",
       "T1-TEMP IN KITCHEN ^C                        0\n",
       "RH_1-HUMIDITY IN KITCHEN %                   0\n",
       "T2-TEMP IN LIVING_ROOM ^C                    0\n",
       "RH_2-HUMIDITY IN LIVING_ROOM %               0\n",
       "T3-TEMP IN LAUNDRY_ROOM ^C                   0\n",
       "RH_3-HUMIDITY IN LAUNDRY_ROOM %              0\n",
       "T4-TEMP IN OFFICE_ROOM ^C                    0\n",
       "RH_4-HUMIDITY IN OFFICE_ROOM %               0\n",
       "T5-TEMP IN BATHROOM ^C                       0\n",
       "RH_5-HUMIDITY IN BATHROOM %                  0\n",
       "T6-TEMP OUTSIDE_NORTH ^C                     0\n",
       "RH_6-HUMIDITY IN OUTSIDE_NORTH %             0\n",
       "T7-TEMP IN IRONING_ROOM ^C                   0\n",
       "RH_7-HUMIDITY IN IRONING_ROOM %              0\n",
       "T8-TEMP IN TEEN_ROOM ^C                      0\n",
       "RH_8-HUMIDITY IN TEEN_ROOM %                 0\n",
       "T9-TEMP IN MASTER_ROOM ^C                    0\n",
       "RH_9-HUMIDITY IN MASTER_ROOM %               0\n",
       "T_out-TEMP OUTSIDE_WEATHER STATION ^C        0\n",
       "Press_mm_hg-PRESSURE_STATION mmHg            0\n",
       "RH_out-HUMIDITY OUTSIDE_WEATHER STATION %    0\n",
       "WS-WEATHER STATION m/s                       0\n",
       "Visibility-WEATHER STATION km                0\n",
       "TDP-WEATHER STATION A^C                      0\n",
       "rv1-RANDOM VARIABLE1                         0\n",
       "rv2-RANDOM VARIABLE2                         0\n",
       "dtype: int64"
      ]
     },
     "execution_count": 104,
     "metadata": {},
     "output_type": "execute_result"
    }
   ],
   "source": [
    "data1.isnull().sum()"
   ]
  },
  {
   "cell_type": "markdown",
   "id": "2e20b8ab",
   "metadata": {},
   "source": [
    "# QUESTION 12"
   ]
  },
  {
   "cell_type": "code",
   "execution_count": 110,
   "id": "988fd6da",
   "metadata": {},
   "outputs": [],
   "source": [
    "\n",
    "#NORMALIZE DATASET USING MIN-MAX SCALER\n",
    "\n",
    "scaler = MinMaxScaler ()\n",
    "normalized_data1 = pd.DataFrame(scaler.fit_transform(data1), columns = data1.columns)\n",
    "features_data1 = normalized_data1['T2-TEMP IN LIVING_ROOM ^C'].values.reshape(-1, 1)\n",
    "\n",
    "target = normalized_data1['T6-TEMP OUTSIDE_NORTH ^C']"
   ]
  },
  {
   "cell_type": "code",
   "execution_count": 111,
   "id": "ddfb6cae",
   "metadata": {},
   "outputs": [],
   "source": [
    "#split dataset\n",
    "\n",
    "X_train, X_test, y_train, y_test = train_test_split(features_data1, target, test_size = 0.3, random_state = 1)"
   ]
  },
  {
   "cell_type": "code",
   "execution_count": 112,
   "id": "554455d6",
   "metadata": {},
   "outputs": [
    {
     "data": {
      "text/plain": [
       "LinearRegression()"
      ]
     },
     "execution_count": 112,
     "metadata": {},
     "output_type": "execute_result"
    }
   ],
   "source": [
    "#TRAIN DATASET\n",
    "\n",
    "model = LinearRegression()\n",
    "\n",
    "model.fit(X_train, y_train)"
   ]
  },
  {
   "cell_type": "code",
   "execution_count": 113,
   "id": "17eba8fa",
   "metadata": {},
   "outputs": [
    {
     "data": {
      "text/plain": [
       "array([0.27457749, 0.44635267, 0.59807124, ..., 0.35286298, 0.45206773,\n",
       "       0.39168223])"
      ]
     },
     "execution_count": 113,
     "metadata": {},
     "output_type": "execute_result"
    }
   ],
   "source": [
    "#TEST TRAINED MODEL\n",
    "\n",
    "predict = model.predict(X_test)\n",
    "predict"
   ]
  },
  {
   "cell_type": "code",
   "execution_count": 114,
   "id": "11f64191",
   "metadata": {},
   "outputs": [
    {
     "data": {
      "text/plain": [
       "0.65"
      ]
     },
     "execution_count": 114,
     "metadata": {},
     "output_type": "execute_result"
    }
   ],
   "source": [
    "#CHECK PERFORMANCE USING R-SQUARED\n",
    "\n",
    "r2 = r2_score(y_test, predict)\n",
    "round(r2, 2)"
   ]
  },
  {
   "cell_type": "markdown",
   "id": "82473d0e",
   "metadata": {},
   "source": [
    "# QUESTION 13"
   ]
  },
  {
   "cell_type": "code",
   "execution_count": 116,
   "id": "55decf00",
   "metadata": {},
   "outputs": [
    {
     "data": {
      "text/html": [
       "<div>\n",
       "<style scoped>\n",
       "    .dataframe tbody tr th:only-of-type {\n",
       "        vertical-align: middle;\n",
       "    }\n",
       "\n",
       "    .dataframe tbody tr th {\n",
       "        vertical-align: top;\n",
       "    }\n",
       "\n",
       "    .dataframe thead th {\n",
       "        text-align: right;\n",
       "    }\n",
       "</style>\n",
       "<table border=\"1\" class=\"dataframe\">\n",
       "  <thead>\n",
       "    <tr style=\"text-align: right;\">\n",
       "      <th></th>\n",
       "      <th>Appliances</th>\n",
       "      <th>T1-TEMP IN KITCHEN ^C</th>\n",
       "      <th>RH_1-HUMIDITY IN KITCHEN %</th>\n",
       "      <th>T2-TEMP IN LIVING_ROOM ^C</th>\n",
       "      <th>RH_2-HUMIDITY IN LIVING_ROOM %</th>\n",
       "      <th>T3-TEMP IN LAUNDRY_ROOM ^C</th>\n",
       "      <th>RH_3-HUMIDITY IN LAUNDRY_ROOM %</th>\n",
       "      <th>T4-TEMP IN OFFICE_ROOM ^C</th>\n",
       "      <th>RH_4-HUMIDITY IN OFFICE_ROOM %</th>\n",
       "      <th>T5-TEMP IN BATHROOM ^C</th>\n",
       "      <th>...</th>\n",
       "      <th>T9-TEMP IN MASTER_ROOM ^C</th>\n",
       "      <th>RH_9-HUMIDITY IN MASTER_ROOM %</th>\n",
       "      <th>T_out-TEMP OUTSIDE_WEATHER STATION ^C</th>\n",
       "      <th>Press_mm_hg-PRESSURE_STATION mmHg</th>\n",
       "      <th>RH_out-HUMIDITY OUTSIDE_WEATHER STATION %</th>\n",
       "      <th>WS-WEATHER STATION m/s</th>\n",
       "      <th>Visibility-WEATHER STATION km</th>\n",
       "      <th>TDP-WEATHER STATION A^C</th>\n",
       "      <th>rv1-RANDOM VARIABLE1</th>\n",
       "      <th>rv2-RANDOM VARIABLE2</th>\n",
       "    </tr>\n",
       "  </thead>\n",
       "  <tbody>\n",
       "    <tr>\n",
       "      <th>0</th>\n",
       "      <td>60</td>\n",
       "      <td>19.89</td>\n",
       "      <td>47.596667</td>\n",
       "      <td>19.2</td>\n",
       "      <td>44.790000</td>\n",
       "      <td>19.79</td>\n",
       "      <td>44.730000</td>\n",
       "      <td>19.000000</td>\n",
       "      <td>45.566667</td>\n",
       "      <td>17.166667</td>\n",
       "      <td>...</td>\n",
       "      <td>17.033333</td>\n",
       "      <td>45.53</td>\n",
       "      <td>6.60</td>\n",
       "      <td>733.5</td>\n",
       "      <td>92.0</td>\n",
       "      <td>7.000000</td>\n",
       "      <td>63.000000</td>\n",
       "      <td>5.3</td>\n",
       "      <td>13.275433</td>\n",
       "      <td>13.275433</td>\n",
       "    </tr>\n",
       "    <tr>\n",
       "      <th>1</th>\n",
       "      <td>60</td>\n",
       "      <td>19.89</td>\n",
       "      <td>46.693333</td>\n",
       "      <td>19.2</td>\n",
       "      <td>44.722500</td>\n",
       "      <td>19.79</td>\n",
       "      <td>44.790000</td>\n",
       "      <td>19.000000</td>\n",
       "      <td>45.992500</td>\n",
       "      <td>17.166667</td>\n",
       "      <td>...</td>\n",
       "      <td>17.066667</td>\n",
       "      <td>45.56</td>\n",
       "      <td>6.48</td>\n",
       "      <td>733.6</td>\n",
       "      <td>92.0</td>\n",
       "      <td>6.666667</td>\n",
       "      <td>59.166667</td>\n",
       "      <td>5.2</td>\n",
       "      <td>18.606195</td>\n",
       "      <td>18.606195</td>\n",
       "    </tr>\n",
       "    <tr>\n",
       "      <th>2</th>\n",
       "      <td>50</td>\n",
       "      <td>19.89</td>\n",
       "      <td>46.300000</td>\n",
       "      <td>19.2</td>\n",
       "      <td>44.626667</td>\n",
       "      <td>19.79</td>\n",
       "      <td>44.933333</td>\n",
       "      <td>18.926667</td>\n",
       "      <td>45.890000</td>\n",
       "      <td>17.166667</td>\n",
       "      <td>...</td>\n",
       "      <td>17.000000</td>\n",
       "      <td>45.50</td>\n",
       "      <td>6.37</td>\n",
       "      <td>733.7</td>\n",
       "      <td>92.0</td>\n",
       "      <td>6.333333</td>\n",
       "      <td>55.333333</td>\n",
       "      <td>5.1</td>\n",
       "      <td>28.642668</td>\n",
       "      <td>28.642668</td>\n",
       "    </tr>\n",
       "    <tr>\n",
       "      <th>3</th>\n",
       "      <td>50</td>\n",
       "      <td>19.89</td>\n",
       "      <td>46.066667</td>\n",
       "      <td>19.2</td>\n",
       "      <td>44.590000</td>\n",
       "      <td>19.79</td>\n",
       "      <td>45.000000</td>\n",
       "      <td>18.890000</td>\n",
       "      <td>45.723333</td>\n",
       "      <td>17.166667</td>\n",
       "      <td>...</td>\n",
       "      <td>17.000000</td>\n",
       "      <td>45.40</td>\n",
       "      <td>6.25</td>\n",
       "      <td>733.8</td>\n",
       "      <td>92.0</td>\n",
       "      <td>6.000000</td>\n",
       "      <td>51.500000</td>\n",
       "      <td>5.0</td>\n",
       "      <td>45.410390</td>\n",
       "      <td>45.410390</td>\n",
       "    </tr>\n",
       "    <tr>\n",
       "      <th>4</th>\n",
       "      <td>60</td>\n",
       "      <td>19.89</td>\n",
       "      <td>46.333333</td>\n",
       "      <td>19.2</td>\n",
       "      <td>44.530000</td>\n",
       "      <td>19.79</td>\n",
       "      <td>45.000000</td>\n",
       "      <td>18.890000</td>\n",
       "      <td>45.530000</td>\n",
       "      <td>17.200000</td>\n",
       "      <td>...</td>\n",
       "      <td>17.000000</td>\n",
       "      <td>45.40</td>\n",
       "      <td>6.13</td>\n",
       "      <td>733.9</td>\n",
       "      <td>92.0</td>\n",
       "      <td>5.666667</td>\n",
       "      <td>47.666667</td>\n",
       "      <td>4.9</td>\n",
       "      <td>10.084097</td>\n",
       "      <td>10.084097</td>\n",
       "    </tr>\n",
       "  </tbody>\n",
       "</table>\n",
       "<p>5 rows × 27 columns</p>\n",
       "</div>"
      ],
      "text/plain": [
       "   Appliances  T1-TEMP IN KITCHEN ^C  RH_1-HUMIDITY IN KITCHEN %  \\\n",
       "0          60                  19.89                   47.596667   \n",
       "1          60                  19.89                   46.693333   \n",
       "2          50                  19.89                   46.300000   \n",
       "3          50                  19.89                   46.066667   \n",
       "4          60                  19.89                   46.333333   \n",
       "\n",
       "   T2-TEMP IN LIVING_ROOM ^C  RH_2-HUMIDITY IN LIVING_ROOM %  \\\n",
       "0                       19.2                       44.790000   \n",
       "1                       19.2                       44.722500   \n",
       "2                       19.2                       44.626667   \n",
       "3                       19.2                       44.590000   \n",
       "4                       19.2                       44.530000   \n",
       "\n",
       "   T3-TEMP IN LAUNDRY_ROOM ^C  RH_3-HUMIDITY IN LAUNDRY_ROOM %  \\\n",
       "0                       19.79                        44.730000   \n",
       "1                       19.79                        44.790000   \n",
       "2                       19.79                        44.933333   \n",
       "3                       19.79                        45.000000   \n",
       "4                       19.79                        45.000000   \n",
       "\n",
       "   T4-TEMP IN OFFICE_ROOM ^C  RH_4-HUMIDITY IN OFFICE_ROOM %  \\\n",
       "0                  19.000000                       45.566667   \n",
       "1                  19.000000                       45.992500   \n",
       "2                  18.926667                       45.890000   \n",
       "3                  18.890000                       45.723333   \n",
       "4                  18.890000                       45.530000   \n",
       "\n",
       "   T5-TEMP IN BATHROOM ^C  ...  T9-TEMP IN MASTER_ROOM ^C  \\\n",
       "0               17.166667  ...                  17.033333   \n",
       "1               17.166667  ...                  17.066667   \n",
       "2               17.166667  ...                  17.000000   \n",
       "3               17.166667  ...                  17.000000   \n",
       "4               17.200000  ...                  17.000000   \n",
       "\n",
       "   RH_9-HUMIDITY IN MASTER_ROOM %  T_out-TEMP OUTSIDE_WEATHER STATION ^C  \\\n",
       "0                           45.53                                   6.60   \n",
       "1                           45.56                                   6.48   \n",
       "2                           45.50                                   6.37   \n",
       "3                           45.40                                   6.25   \n",
       "4                           45.40                                   6.13   \n",
       "\n",
       "   Press_mm_hg-PRESSURE_STATION mmHg  \\\n",
       "0                              733.5   \n",
       "1                              733.6   \n",
       "2                              733.7   \n",
       "3                              733.8   \n",
       "4                              733.9   \n",
       "\n",
       "   RH_out-HUMIDITY OUTSIDE_WEATHER STATION %  WS-WEATHER STATION m/s  \\\n",
       "0                                       92.0                7.000000   \n",
       "1                                       92.0                6.666667   \n",
       "2                                       92.0                6.333333   \n",
       "3                                       92.0                6.000000   \n",
       "4                                       92.0                5.666667   \n",
       "\n",
       "   Visibility-WEATHER STATION km  TDP-WEATHER STATION A^C  \\\n",
       "0                      63.000000                      5.3   \n",
       "1                      59.166667                      5.2   \n",
       "2                      55.333333                      5.1   \n",
       "3                      51.500000                      5.0   \n",
       "4                      47.666667                      4.9   \n",
       "\n",
       "   rv1-RANDOM VARIABLE1  rv2-RANDOM VARIABLE2  \n",
       "0             13.275433             13.275433  \n",
       "1             18.606195             18.606195  \n",
       "2             28.642668             28.642668  \n",
       "3             45.410390             45.410390  \n",
       "4             10.084097             10.084097  \n",
       "\n",
       "[5 rows x 27 columns]"
      ]
     },
     "execution_count": 116,
     "metadata": {},
     "output_type": "execute_result"
    }
   ],
   "source": [
    "#already dropped data column in beginning\n",
    "\n",
    "data13 = data1.drop('lights', axis = 1)\n",
    "data13.head()"
   ]
  },
  {
   "cell_type": "code",
   "execution_count": 117,
   "id": "fbb22754",
   "metadata": {},
   "outputs": [],
   "source": [
    "#NORMALIZE DATASET USING MIN-MAX SCALER\n",
    "\n",
    "scaler = MinMaxScaler ()\n",
    "normalized_data13 = pd.DataFrame(scaler.fit_transform(data13), columns = data13.columns)\n",
    "features = normalized_data13[['T1-TEMP IN KITCHEN ^C', 'RH_1-HUMIDITY IN KITCHEN %', 'T2-TEMP IN LIVING_ROOM ^C',\n",
    "                                       'RH_2-HUMIDITY IN LIVING_ROOM %', 'T3-TEMP IN LAUNDRY_ROOM ^C', 'RH_3-HUMIDITY IN LAUNDRY_ROOM %',\n",
    "                                       'T4-TEMP IN OFFICE_ROOM ^C', 'RH_4-HUMIDITY IN OFFICE_ROOM %', 'T5-TEMP IN BATHROOM ^C',\n",
    "                                       'RH_5-HUMIDITY IN BATHROOM %', 'T6-TEMP OUTSIDE_NORTH ^C', 'RH_6-HUMIDITY IN OUTSIDE_NORTH %',\n",
    "                                       'T7-TEMP IN IRONING_ROOM ^C', 'RH_7-HUMIDITY IN IRONING_ROOM %', 'T8-TEMP IN TEEN_ROOM ^C',\n",
    "                                       'RH_8-HUMIDITY IN TEEN_ROOM %', 'T9-TEMP IN MASTER_ROOM ^C', 'RH_9-HUMIDITY IN MASTER_ROOM %',\n",
    "                                       'T_out-TEMP OUTSIDE_WEATHER STATION ^C', 'RH_out-HUMIDITY OUTSIDE_WEATHER STATION %', 'Press_mm_hg-PRESSURE_STATION mmHg',\n",
    "                                       'WS-WEATHER STATION m/s', 'Visibility-WEATHER STATION km', 'TDP-WEATHER STATION A^C', 'rv1-RANDOM VARIABLE1',\n",
    "                                       'rv2-RANDOM VARIABLE2']]\n",
    "\n",
    "output = normalized_data13['Appliances']"
   ]
  },
  {
   "cell_type": "code",
   "execution_count": 118,
   "id": "fae814b4",
   "metadata": {},
   "outputs": [],
   "source": [
    "#SPLIT DATASET\n",
    "\n",
    "X, x, Y, y = train_test_split(features, output, test_size = 0.3, random_state = 42)"
   ]
  },
  {
   "cell_type": "code",
   "execution_count": 119,
   "id": "feaa9d84",
   "metadata": {},
   "outputs": [
    {
     "data": {
      "text/plain": [
       "LinearRegression()"
      ]
     },
     "execution_count": 119,
     "metadata": {},
     "output_type": "execute_result"
    }
   ],
   "source": [
    "#TRAIN DATASET\n",
    "\n",
    "model = LinearRegression()\n",
    "\n",
    "model.fit(X, Y)"
   ]
  },
  {
   "cell_type": "code",
   "execution_count": 120,
   "id": "280204cd",
   "metadata": {},
   "outputs": [
    {
     "data": {
      "text/plain": [
       "array([0.03319482, 0.24412217, 0.0340092 , ..., 0.06843864, 0.09999407,\n",
       "       0.05760656])"
      ]
     },
     "execution_count": 120,
     "metadata": {},
     "output_type": "execute_result"
    }
   ],
   "source": [
    "#TEST TRAINED MODEL\n",
    "\n",
    "prediction = model.predict(x)\n",
    "prediction"
   ]
  },
  {
   "cell_type": "code",
   "execution_count": 124,
   "id": "372b200d",
   "metadata": {},
   "outputs": [
    {
     "data": {
      "text/plain": [
       "0.05"
      ]
     },
     "execution_count": 124,
     "metadata": {},
     "output_type": "execute_result"
    }
   ],
   "source": [
    "#CHECK PERFORMANCE USING MEAN ABSOLUTE ERROR METRIC\n",
    "\n",
    "mae = mean_absolute_error (y, prediction)\n",
    "round(mae, 3)"
   ]
  },
  {
   "cell_type": "markdown",
   "id": "cad07129",
   "metadata": {},
   "source": [
    "# QUESTION 14"
   ]
  },
  {
   "cell_type": "code",
   "execution_count": 125,
   "id": "7c5f349b",
   "metadata": {},
   "outputs": [
    {
     "data": {
      "text/plain": [
       "0.09"
      ]
     },
     "execution_count": 125,
     "metadata": {},
     "output_type": "execute_result"
    }
   ],
   "source": [
    "#CHECK PERFORMANCE USING RESIDUAL SUM OF SQUARES\n",
    "\n",
    "rss = np.sqrt(mean_squared_error(y, prediction))\n",
    "round(rss, 2)"
   ]
  },
  {
   "cell_type": "markdown",
   "id": "9977e3f4",
   "metadata": {},
   "source": [
    "# QUESTION 15"
   ]
  },
  {
   "cell_type": "code",
   "execution_count": 126,
   "id": "3df172c2",
   "metadata": {},
   "outputs": [
    {
     "data": {
      "text/plain": [
       "0.008"
      ]
     },
     "execution_count": 126,
     "metadata": {},
     "output_type": "execute_result"
    }
   ],
   "source": [
    "#CHECK PERFORMANCE USING MEAN SQUARED ERROR\n",
    "\n",
    "rmse = mean_squared_error (y, prediction)\n",
    "round(rmse, 3)"
   ]
  },
  {
   "cell_type": "markdown",
   "id": "dffdadb5",
   "metadata": {},
   "source": [
    "# QUESTION 16"
   ]
  },
  {
   "cell_type": "code",
   "execution_count": 127,
   "id": "4f2631c6",
   "metadata": {},
   "outputs": [
    {
     "data": {
      "text/plain": [
       "0.15"
      ]
     },
     "execution_count": 127,
     "metadata": {},
     "output_type": "execute_result"
    }
   ],
   "source": [
    "#CHECK PERFORMANCE USING R-SQUARED\n",
    "\n",
    "r2 = r2_score(y, prediction)\n",
    "round(r2, 2)"
   ]
  },
  {
   "cell_type": "markdown",
   "id": "3c621599",
   "metadata": {},
   "source": [
    "# QUESTION 18"
   ]
  },
  {
   "cell_type": "code",
   "execution_count": 128,
   "id": "0704bd32",
   "metadata": {},
   "outputs": [
    {
     "data": {
      "text/plain": [
       "Ridge(alpha=0.4)"
      ]
     },
     "execution_count": 128,
     "metadata": {},
     "output_type": "execute_result"
    }
   ],
   "source": [
    "#APPLYING RIDGE OR L2 REGULARIZATION\n",
    "\n",
    "l2_reg = Ridge(alpha = 0.4)\n",
    "l2_reg.fit(X, Y)"
   ]
  },
  {
   "cell_type": "code",
   "execution_count": 129,
   "id": "b6f4c91d",
   "metadata": {},
   "outputs": [
    {
     "data": {
      "text/plain": [
       "array([0.0331965 , 0.24044278, 0.03462127, ..., 0.06871992, 0.09998794,\n",
       "       0.05882301])"
      ]
     },
     "execution_count": 129,
     "metadata": {},
     "output_type": "execute_result"
    }
   ],
   "source": [
    "prediction1 = l2_reg.predict(x)\n",
    "prediction1"
   ]
  },
  {
   "cell_type": "code",
   "execution_count": 130,
   "id": "8c740261",
   "metadata": {},
   "outputs": [
    {
     "data": {
      "text/plain": [
       "0.008"
      ]
     },
     "execution_count": 130,
     "metadata": {},
     "output_type": "execute_result"
    }
   ],
   "source": [
    "rmse = mean_squared_error (y, prediction1)\n",
    "round(rmse, 3)"
   ]
  },
  {
   "cell_type": "code",
   "execution_count": 131,
   "id": "14a07272",
   "metadata": {},
   "outputs": [
    {
     "data": {
      "text/plain": [
       "Lasso(alpha=0.001)"
      ]
     },
     "execution_count": 131,
     "metadata": {},
     "output_type": "execute_result"
    }
   ],
   "source": [
    "#APPLYING LASSO OR L1 REGULARIZATION\n",
    "\n",
    "l1_reg = Lasso(alpha = 0.001)\n",
    "l1_reg.fit(X, Y)"
   ]
  },
  {
   "cell_type": "markdown",
   "id": "0d049fc3",
   "metadata": {},
   "source": [
    "# QUESTION 19"
   ]
  },
  {
   "cell_type": "code",
   "execution_count": 132,
   "id": "f12982ce",
   "metadata": {},
   "outputs": [],
   "source": [
    "def weights_data1 (model, feat, column_name):\n",
    "    \n",
    "    #this function returns the weight of every feature\n",
    "    weights = pd.Series(model.coef_, feat.columns).sort_values()\n",
    "    weights_df = pd.DataFrame(weights).reset_index()\n",
    "    weights_df.columns = ['Features', column_name]\n",
    "    weights_df[column_name].round(3)\n",
    "    return weights_df"
   ]
  },
  {
   "cell_type": "code",
   "execution_count": 134,
   "id": "c5757d27",
   "metadata": {},
   "outputs": [],
   "source": [
    "model_weights = weights_data1(model, X, 'Linear Model Weights')\n",
    "l2_weights = weights_data1(l2_reg, X, 'L2 Weights')\n",
    "l1_weights = weights_data1(l1_reg, X, 'L1 Weights')"
   ]
  },
  {
   "cell_type": "code",
   "execution_count": 135,
   "id": "dcbf4560",
   "metadata": {},
   "outputs": [
    {
     "name": "stdout",
     "output_type": "stream",
     "text": [
      "                                     Features  Linear Model Weights  \\\n",
      "0              RH_2-HUMIDITY IN LIVING_ROOM %             -0.456662   \n",
      "1       T_out-TEMP OUTSIDE_WEATHER STATION ^C             -0.321969   \n",
      "2                   T2-TEMP IN LIVING_ROOM ^C             -0.236198   \n",
      "3                   T9-TEMP IN MASTER_ROOM ^C             -0.189977   \n",
      "4                RH_8-HUMIDITY IN TEEN_ROOM %             -0.157585   \n",
      "5   RH_out-HUMIDITY OUTSIDE_WEATHER STATION %             -0.077748   \n",
      "6             RH_7-HUMIDITY IN IRONING_ROOM %             -0.044620   \n",
      "7              RH_9-HUMIDITY IN MASTER_ROOM %             -0.039808   \n",
      "8                      T5-TEMP IN BATHROOM ^C             -0.015645   \n",
      "9                       T1-TEMP IN KITCHEN ^C             -0.003242   \n",
      "10                       rv2-RANDOM VARIABLE2              0.000765   \n",
      "11                       rv1-RANDOM VARIABLE1              0.000765   \n",
      "12          Press_mm_hg-PRESSURE_STATION mmHg              0.006832   \n",
      "13                 T7-TEMP IN IRONING_ROOM ^C              0.010350   \n",
      "14              Visibility-WEATHER STATION km              0.012306   \n",
      "15                RH_5-HUMIDITY IN BATHROOM %              0.016009   \n",
      "16             RH_4-HUMIDITY IN OFFICE_ROOM %              0.026370   \n",
      "17                  T4-TEMP IN OFFICE_ROOM ^C              0.028957   \n",
      "18                     WS-WEATHER STATION m/s              0.029178   \n",
      "19           RH_6-HUMIDITY IN OUTSIDE_NORTH %              0.038023   \n",
      "20            RH_3-HUMIDITY IN LAUNDRY_ROOM %              0.096095   \n",
      "21                    T8-TEMP IN TEEN_ROOM ^C              0.101995   \n",
      "22                    TDP-WEATHER STATION A^C              0.117862   \n",
      "23                   T6-TEMP OUTSIDE_NORTH ^C              0.236441   \n",
      "24                 T3-TEMP IN LAUNDRY_ROOM ^C              0.290587   \n",
      "25                 RH_1-HUMIDITY IN KITCHEN %              0.553516   \n",
      "\n",
      "    L2 Weights  L1 Weights  \n",
      "0    -0.411048   -0.000000  \n",
      "1    -0.262343    0.000000  \n",
      "2    -0.201417    0.000000  \n",
      "3    -0.188948   -0.000000  \n",
      "4    -0.156818   -0.000110  \n",
      "5    -0.054822   -0.049557  \n",
      "6    -0.045983   -0.000000  \n",
      "7    -0.041373   -0.000000  \n",
      "8    -0.019840   -0.000000  \n",
      "9    -0.018372    0.000000  \n",
      "10    0.000744   -0.000000  \n",
      "11    0.000744   -0.000000  \n",
      "12    0.006578   -0.000000  \n",
      "13    0.010126   -0.000000  \n",
      "14    0.012076    0.000000  \n",
      "15    0.016154    0.000000  \n",
      "16    0.024565    0.000000  \n",
      "17    0.027364   -0.000000  \n",
      "18    0.030262    0.002912  \n",
      "19    0.035500   -0.000000  \n",
      "20    0.095173    0.000000  \n",
      "21    0.101028    0.000000  \n",
      "22    0.083261    0.000000  \n",
      "23    0.217324    0.000000  \n",
      "24    0.288055    0.000000  \n",
      "25    0.519502    0.017880  \n"
     ]
    }
   ],
   "source": [
    "final_weights = pd.merge(model_weights, l2_weights, on = 'Features')\n",
    "final_weights = pd.merge(final_weights, l1_weights, on = 'Features')\n",
    "\n",
    "print(final_weights)"
   ]
  },
  {
   "cell_type": "markdown",
   "id": "839f0572",
   "metadata": {},
   "source": [
    "# QUESTION 20"
   ]
  },
  {
   "cell_type": "code",
   "execution_count": 136,
   "id": "d3261eb7",
   "metadata": {},
   "outputs": [
    {
     "data": {
      "text/plain": [
       "array([0.07370267, 0.08143458, 0.07716072, ..., 0.07792848, 0.09034412,\n",
       "       0.08359255])"
      ]
     },
     "execution_count": 136,
     "metadata": {},
     "output_type": "execute_result"
    }
   ],
   "source": [
    "prediction2 = l1_reg.predict(x)\n",
    "prediction2"
   ]
  },
  {
   "cell_type": "code",
   "execution_count": 139,
   "id": "b0dc500a",
   "metadata": {},
   "outputs": [
    {
     "data": {
      "text/plain": [
       "0.009"
      ]
     },
     "execution_count": 139,
     "metadata": {},
     "output_type": "execute_result"
    }
   ],
   "source": [
    "#CHECK PERFORMANCE USING MEAN SQUARED ERROR\n",
    "\n",
    "rmse = mean_squared_error (y, prediction2)\n",
    "round(rmse, 3)"
   ]
  },
  {
   "cell_type": "code",
   "execution_count": null,
   "id": "4363e262",
   "metadata": {},
   "outputs": [],
   "source": []
  }
 ],
 "metadata": {
  "kernelspec": {
   "display_name": "Python 3 (ipykernel)",
   "language": "python",
   "name": "python3"
  },
  "language_info": {
   "codemirror_mode": {
    "name": "ipython",
    "version": 3
   },
   "file_extension": ".py",
   "mimetype": "text/x-python",
   "name": "python",
   "nbconvert_exporter": "python",
   "pygments_lexer": "ipython3",
   "version": "3.9.0"
  }
 },
 "nbformat": 4,
 "nbformat_minor": 5
}
